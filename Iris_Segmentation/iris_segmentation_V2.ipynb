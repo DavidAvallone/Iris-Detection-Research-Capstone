{
 "cells": [
  {
   "cell_type": "code",
   "execution_count": 2,
   "metadata": {},
   "outputs": [],
   "source": [
    "# David Avallone & Kelly Reynolds Computer Vision\n",
    "\n",
    "import cv2 \n",
    "from matplotlib import pyplot as plt\n",
    "import math\n",
    "import numpy as np\n",
    "import os\n",
    "from PIL import Image"
   ]
  },
  {
   "cell_type": "code",
   "execution_count": 61,
   "metadata": {},
   "outputs": [],
   "source": [
    "centroid = (0,0)\n",
    "# Holds the iris' radius\n",
    "radius = 0\n",
    "# Holds the current element of the image used by the getNewEye function\n",
    "currentEye = 0\n",
    "# Holds the list of eyes (filenames)\n",
    "eyesList = []\n",
    "\n",
    "def getNewEye(list):\n",
    "\tglobal currentEye\n",
    "\tif (currentEye >= len(list)):\n",
    "\t\tcurrentEye = 0\n",
    "\tnewEye = list[currentEye]\n",
    "\tcurrentEye += 1\n",
    "\treturn (newEye)\n",
    "\n",
    "def getCircles(image):\n",
    "    i = 80\n",
    "    while i < 151:\n",
    "        circles = cv2.HoughCircles(image, cv2.HOUGH_GRADIENT, dp=2, minDist=105.0, param1=30, param2=i, minRadius=100, maxRadius=140)\n",
    "        if circles is not None and len(circles) == 1:\n",
    "            return circles[0]\n",
    "        i += 1\n",
    "    return []\n",
    "\n",
    "def getPupil(frame):\n",
    "    # Convert frame to UMat\n",
    "    frame = cv2.UMat(frame)\n",
    "    # Thresholding\n",
    "    pupilImg = cv2.inRange(frame, (30,30,30), (80,80,80))\n",
    "    # Find contours\n",
    "    contours, _ = cv2.findContours(pupilImg, cv2.RETR_EXTERNAL, cv2.CHAIN_APPROX_SIMPLE)\n",
    "    # Convert UMat to numpy array for copying\n",
    "    frame = cv2.UMat.get(frame)\n",
    "    # Draw circle around pupil\n",
    "    pupilImg = cv2.cvtColor(frame, cv2.COLOR_BGR2GRAY)\n",
    "    pupilImg = cv2.cvtColor(pupilImg, cv2.COLOR_GRAY2BGR)\n",
    "    for contour in contours:\n",
    "        moments = cv2.moments(contour)\n",
    "        area = moments['m00']\n",
    "        if (area > 50):\n",
    "            x = int(moments['m10'] / area)\n",
    "            y = int(moments['m01'] / area)\n",
    "            radius = int(np.sqrt(area / np.pi))\n",
    "            cv2.circle(pupilImg, (x, y), radius, (0, 0, 0), cv2.FILLED)\n",
    "            break\n",
    "\n",
    "    return pupilImg\n",
    "\n",
    "def getIris1(frame):\n",
    "    copyImg = frame.copy()\n",
    "    resImg = frame.copy()\n",
    "    grayImg = cv2.cvtColor(frame, cv2.COLOR_BGR2GRAY)\n",
    "    mask = np.zeros_like(frame)\n",
    "    grayImg = cv2.Canny(grayImg, 5, 70)\n",
    "    grayImg = cv2.GaussianBlur(grayImg, (7, 7), 0)\n",
    "    circles = cv2.HoughCircles(grayImg, cv2.HOUGH_GRADIENT, dp=1, minDist=50, param1=50, param2=50, minRadius=0, maxRadius=0)\n",
    "    \n",
    "    if circles is not None:\n",
    "        circles = np.uint16(np.around(circles))\n",
    "        for circle in circles[0, :]:\n",
    "            rad = int(circle[2])\n",
    "            global centroid\n",
    "            centroid = (int(circle[0]), int(circle[1]))\n",
    "            cv2.circle(mask, centroid, rad, (255, 255, 255), -1)\n",
    "            mask = cv2.bitwise_not(mask)\n",
    "            mask = cv2.cvtColor(mask, cv2.COLOR_BGR2GRAY)  # Convert mask to single-channel\n",
    "            cv2.subtract(frame, copyImg, resImg, mask)\n",
    "            cv2.circle(resImg, centroid, rad, (0, 0, 0), 2)\n",
    "            break\n",
    "\n",
    "    return resImg\n",
    "\n",
    "def getIris2(frame):\n",
    "    copyImg = frame.copy()\n",
    "    resImg = frame.copy()\n",
    "    grayImg = cv2.cvtColor(frame, cv2.COLOR_BGR2GRAY)\n",
    "    mask = np.zeros_like(frame)\n",
    "    grayImg = cv2.Canny(grayImg, 5, 70)\n",
    "    grayImg = cv2.GaussianBlur(grayImg, (7, 7), 0)\n",
    "    circles = getCircles(grayImg)\n",
    "    if len(circles) > 0:\n",
    "        for circle in circles:\n",
    "            rad = int(circle[2])\n",
    "            global centroid\n",
    "            centroid = (int(circle[0]), int(circle[1]))\n",
    "            cv2.circle(mask, centroid, rad, (255, 255, 255), -1)\n",
    "            mask = cv2.bitwise_not(mask)\n",
    "            mask = cv2.cvtColor(mask, cv2.COLOR_BGR2GRAY)  # Convert mask to single-channel\n",
    "            cv2.subtract(frame, copyImg, resImg, mask)\n",
    "            cv2.circle(resImg, centroid, rad, (0, 0, 0), 2)\n",
    "            break\n",
    "\n",
    "    return resImg\n",
    "\n",
    "def process_eyes(directory, output_directory):\n",
    "    # Get a list of all subdirectories (001, 002, etc.) in the directory\n",
    "    subdirectories = [f.path for f in os.scandir(directory) if f.is_dir()]\n",
    "    \n",
    "    for subdir in subdirectories:\n",
    "        # Create a new directory for the processed images\n",
    "        new_subdir = os.path.join(output_directory, os.path.basename(subdir))\n",
    "        os.makedirs(new_subdir, exist_ok=True)\n",
    "\n",
    "        # Process images in both 'L' and 'R' subdirectories\n",
    "        for sub_eye_dir in ['L', 'R']:\n",
    "            eyesList = os.listdir(os.path.join(subdir, sub_eye_dir))\n",
    "\n",
    "            for eye in eyesList:\n",
    "                image_path = os.path.join(subdir, sub_eye_dir, eye)\n",
    "                if not os.path.isfile(image_path):\n",
    "                    print(f\"File not found: {image_path}\")\n",
    "                    continue\n",
    "\n",
    "                frame = cv2.imread(image_path)\n",
    "                if frame is None:\n",
    "                    print(f\"Error loading image: {image_path}\")\n",
    "                    continue\n",
    "\n",
    "                # Process the image to get the iris\n",
    "                output = getPupil(frame)\n",
    "                iris = getIris2(output)\n",
    "\n",
    "                # Save the processed iris image\n",
    "                save_path = os.path.join(new_subdir, f\"{sub_eye_dir}_iris_{eye}\")\n",
    "                cv2.imwrite(save_path, iris)\n",
    "\n",
    "def process_eyes1(directory, output_directory):\n",
    "    # Get a list of all subdirectories (001, 002, etc.) in the directory\n",
    "    subdirectories = [f.path for f in os.scandir(directory) if f.is_dir()]\n",
    "\n",
    "    for subdir in subdirectories:\n",
    "        # Create a new directory for the processed images\n",
    "        new_subdir = os.path.join(output_directory, os.path.basename(subdir))\n",
    "        os.makedirs(new_subdir, exist_ok=True)\n",
    "\n",
    "        # Process images in the subdirectory\n",
    "        eyesList = os.listdir(subdir)\n",
    "\n",
    "        for eye in eyesList:\n",
    "            if not eye.startswith('L_iris_') and not eye.startswith('R_iris_'):\n",
    "                continue\n",
    "            \n",
    "            image_path = os.path.join(subdir, eye)\n",
    "            if not os.path.isfile(image_path):\n",
    "                print(f\"File not found: {image_path}\")\n",
    "                continue\n",
    "\n",
    "            frame = cv2.imread(image_path)\n",
    "            if frame is None:\n",
    "                print(f\"Error loading image: {image_path}\")\n",
    "                continue\n",
    "\n",
    "            # Process the image to get the iris\n",
    "            output = getPupil(frame)\n",
    "            iris = getIris1(output)\n",
    "\n",
    "            # Save the processed iris image\n",
    "            save_path = os.path.join(new_subdir, eye)\n",
    "            cv2.imwrite(save_path, iris)"
   ]
  },
  {
   "cell_type": "code",
   "execution_count": 41,
   "metadata": {},
   "outputs": [],
   "source": [
    "def crop_image(image_path, new_image_name, crop_coordinates):\n",
    "    with Image.open(image_path) as img:\n",
    "        # Crop the image\n",
    "        cropped_img = img.crop(crop_coordinates)\n",
    "        # Save the cropped image with the new name\n",
    "        cropped_img.save(new_image_name)\n",
    "\n",
    "def crop_images_in_subdirectories(directory,output_directory, crop_coordinates):\n",
    "    # Get a list of all subdirectories (001, 002, etc.) in the directory\n",
    "    subdirectories = [f.path for f in os.scandir(directory) if f.is_dir()]\n",
    "    \n",
    "    for subdir in subdirectories:\n",
    "        # Create a new directory for the processed images\n",
    "        new_subdir = os.path.join(output_directory, os.path.basename(subdir))\n",
    "        os.makedirs(new_subdir, exist_ok=True)\n",
    "\n",
    "        # Process images in both 'L' and 'R' subdirectories\n",
    "        for sub_eye_dir in ['L', 'R']:\n",
    "            eyesList = os.listdir(os.path.join(subdir, sub_eye_dir))\n",
    "\n",
    "            for eye in eyesList:\n",
    "                image_path = os.path.join(subdir, sub_eye_dir, eye)\n",
    "                if not os.path.isfile(image_path):\n",
    "                    print(f\"File not found: {image_path}\")\n",
    "                    continue\n",
    "\n",
    "                frame = cv2.imread(image_path)\n",
    "                if frame is None:\n",
    "                    print(f\"Error loading image: {image_path}\")\n",
    "                    continue\n",
    "                \n",
    "                # Save the processed iris image\n",
    "                save_path = os.path.join(new_subdir, f\"{sub_eye_dir}_iris_{eye}\")\n",
    "                crop_image(image_path, save_path, crop_coordinates)"
   ]
  },
  {
   "cell_type": "code",
   "execution_count": null,
   "metadata": {},
   "outputs": [],
   "source": [
    "# Path to the directory containing the CASIA images\n",
    "input_directory = 'CASIA-Iris-Lamp/'\n",
    "\n",
    "# Path to the directory where you want to save the processed images\n",
    "output_directory = 'Processed-CASIA-Iris-Lamp2/'\n",
    "\n",
    "# Process the eyes in the input directory and save the processed images in the output directory\n",
    "process_eyes(input_directory, output_directory)"
   ]
  },
  {
   "cell_type": "code",
   "execution_count": 4,
   "metadata": {},
   "outputs": [
    {
     "name": "stdout",
     "output_type": "stream",
     "text": [
      "Image size: 320 x 280\n"
     ]
    }
   ],
   "source": [
    "with Image.open('Processed-CASIA-Iris-Interval/001/L_iris_S1001L01.jpg') as img:\n",
    "    # Get the size of the image\n",
    "    width, height = img.size\n",
    "    print(f\"Image size: {width} x {height}\")"
   ]
  },
  {
   "cell_type": "code",
   "execution_count": 10,
   "metadata": {},
   "outputs": [
    {
     "name": "stdout",
     "output_type": "stream",
     "text": [
      "Image size: 640 x 480\n"
     ]
    }
   ],
   "source": [
    "with Image.open('Processed-CASIA-Iris-Lamp/003/L_iris_S2003L02.jpg') as img:\n",
    "    # Get the size of the image\n",
    "    width, height = img.size\n",
    "    print(f\"Image size: {width} x {height}\")"
   ]
  },
  {
   "cell_type": "code",
   "execution_count": 55,
   "metadata": {},
   "outputs": [],
   "source": [
    "image_path = 'CASIA-Iris-Lamp/001/L/S2001L01.jpg'\n",
    "new_image_name = 'cropped_image.jpg'\n",
    "crop_coordinates = (200, 100, 500, 400)  # Example coordinates, adjust as needed\n",
    "\n",
    "crop_image(image_path, new_image_name, crop_coordinates)"
   ]
  },
  {
   "cell_type": "code",
   "execution_count": 56,
   "metadata": {},
   "outputs": [
    {
     "ename": "KeyboardInterrupt",
     "evalue": "",
     "output_type": "error",
     "traceback": [
      "\u001b[1;31m---------------------------------------------------------------------------\u001b[0m",
      "\u001b[1;31mKeyboardInterrupt\u001b[0m                         Traceback (most recent call last)",
      "Cell \u001b[1;32mIn[56], line 3\u001b[0m\n\u001b[0;32m      1\u001b[0m crop_coordinates \u001b[38;5;241m=\u001b[39m (\u001b[38;5;241m200\u001b[39m, \u001b[38;5;241m100\u001b[39m, \u001b[38;5;241m500\u001b[39m, \u001b[38;5;241m400\u001b[39m)  \u001b[38;5;66;03m# Example coordinates, adjust as needed\u001b[39;00m\n\u001b[1;32m----> 3\u001b[0m crop_images_in_subdirectories(\u001b[38;5;124m\"\u001b[39m\u001b[38;5;124mCASIA-Iris-Lamp\u001b[39m\u001b[38;5;124m\"\u001b[39m,\u001b[38;5;124m\"\u001b[39m\u001b[38;5;124mCropped-CASIA-Iris-Lamp\u001b[39m\u001b[38;5;124m\"\u001b[39m, crop_coordinates)\n",
      "Cell \u001b[1;32mIn[41], line 27\u001b[0m, in \u001b[0;36mcrop_images_in_subdirectories\u001b[1;34m(directory, output_directory, crop_coordinates)\u001b[0m\n\u001b[0;32m     24\u001b[0m     \u001b[38;5;28mprint\u001b[39m(\u001b[38;5;124mf\u001b[39m\u001b[38;5;124m\"\u001b[39m\u001b[38;5;124mFile not found: \u001b[39m\u001b[38;5;132;01m{\u001b[39;00mimage_path\u001b[38;5;132;01m}\u001b[39;00m\u001b[38;5;124m\"\u001b[39m)\n\u001b[0;32m     25\u001b[0m     \u001b[38;5;28;01mcontinue\u001b[39;00m\n\u001b[1;32m---> 27\u001b[0m frame \u001b[38;5;241m=\u001b[39m cv2\u001b[38;5;241m.\u001b[39mimread(image_path)\n\u001b[0;32m     28\u001b[0m \u001b[38;5;28;01mif\u001b[39;00m frame \u001b[38;5;129;01mis\u001b[39;00m \u001b[38;5;28;01mNone\u001b[39;00m:\n\u001b[0;32m     29\u001b[0m     \u001b[38;5;28mprint\u001b[39m(\u001b[38;5;124mf\u001b[39m\u001b[38;5;124m\"\u001b[39m\u001b[38;5;124mError loading image: \u001b[39m\u001b[38;5;132;01m{\u001b[39;00mimage_path\u001b[38;5;132;01m}\u001b[39;00m\u001b[38;5;124m\"\u001b[39m)\n",
      "\u001b[1;31mKeyboardInterrupt\u001b[0m: "
     ]
    }
   ],
   "source": [
    "crop_coordinates = (200, 100, 500, 400)  # Example coordinates, adjust as needed\n",
    "\n",
    "crop_images_in_subdirectories(\"CASIA-Iris-Lamp\",\"Cropped-CASIA-Iris-Lamp\", crop_coordinates)"
   ]
  },
  {
   "cell_type": "code",
   "execution_count": 62,
   "metadata": {},
   "outputs": [
    {
     "ename": "KeyboardInterrupt",
     "evalue": "",
     "output_type": "error",
     "traceback": [
      "\u001b[1;31m---------------------------------------------------------------------------\u001b[0m",
      "\u001b[1;31mKeyboardInterrupt\u001b[0m                         Traceback (most recent call last)",
      "Cell \u001b[1;32mIn[62], line 1\u001b[0m\n\u001b[1;32m----> 1\u001b[0m process_eyes1(\u001b[38;5;124m\"\u001b[39m\u001b[38;5;124mCropped-CASIA-Iris-Lamp\u001b[39m\u001b[38;5;124m\"\u001b[39m, \u001b[38;5;124m\"\u001b[39m\u001b[38;5;124mProcessed-CASIA-Iris-Lamp-Cropped\u001b[39m\u001b[38;5;124m\"\u001b[39m)\n",
      "Cell \u001b[1;32mIn[61], line 155\u001b[0m, in \u001b[0;36mprocess_eyes1\u001b[1;34m(directory, output_directory)\u001b[0m\n\u001b[0;32m    152\u001b[0m     \u001b[38;5;28;01mcontinue\u001b[39;00m\n\u001b[0;32m    154\u001b[0m \u001b[38;5;66;03m# Process the image to get the iris\u001b[39;00m\n\u001b[1;32m--> 155\u001b[0m output \u001b[38;5;241m=\u001b[39m getPupil(frame)\n\u001b[0;32m    156\u001b[0m iris \u001b[38;5;241m=\u001b[39m getIris1(output)\n\u001b[0;32m    158\u001b[0m \u001b[38;5;66;03m# Save the processed iris image\u001b[39;00m\n",
      "Cell \u001b[1;32mIn[61], line 32\u001b[0m, in \u001b[0;36mgetPupil\u001b[1;34m(frame)\u001b[0m\n\u001b[0;32m     30\u001b[0m pupilImg \u001b[38;5;241m=\u001b[39m cv2\u001b[38;5;241m.\u001b[39minRange(frame, (\u001b[38;5;241m30\u001b[39m,\u001b[38;5;241m30\u001b[39m,\u001b[38;5;241m30\u001b[39m), (\u001b[38;5;241m80\u001b[39m,\u001b[38;5;241m80\u001b[39m,\u001b[38;5;241m80\u001b[39m))\n\u001b[0;32m     31\u001b[0m \u001b[38;5;66;03m# Find contours\u001b[39;00m\n\u001b[1;32m---> 32\u001b[0m contours, _ \u001b[38;5;241m=\u001b[39m cv2\u001b[38;5;241m.\u001b[39mfindContours(pupilImg, cv2\u001b[38;5;241m.\u001b[39mRETR_EXTERNAL, cv2\u001b[38;5;241m.\u001b[39mCHAIN_APPROX_SIMPLE)\n\u001b[0;32m     33\u001b[0m \u001b[38;5;66;03m# Convert UMat to numpy array for copying\u001b[39;00m\n\u001b[0;32m     34\u001b[0m frame \u001b[38;5;241m=\u001b[39m cv2\u001b[38;5;241m.\u001b[39mUMat\u001b[38;5;241m.\u001b[39mget(frame)\n",
      "\u001b[1;31mKeyboardInterrupt\u001b[0m: "
     ]
    }
   ],
   "source": [
    "process_eyes1(\"Cropped-CASIA-Iris-Lamp\", \"Processed-CASIA-Iris-Lamp-Cropped\")"
   ]
  }
 ],
 "metadata": {
  "kernelspec": {
   "display_name": "base",
   "language": "python",
   "name": "python3"
  },
  "language_info": {
   "codemirror_mode": {
    "name": "ipython",
    "version": 3
   },
   "file_extension": ".py",
   "mimetype": "text/x-python",
   "name": "python",
   "nbconvert_exporter": "python",
   "pygments_lexer": "ipython3",
   "version": "3.11.5"
  }
 },
 "nbformat": 4,
 "nbformat_minor": 2
}
