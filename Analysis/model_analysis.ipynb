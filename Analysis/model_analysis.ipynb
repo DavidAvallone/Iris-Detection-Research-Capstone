{
 "cells": [
  {
   "cell_type": "code",
   "execution_count": 1,
   "metadata": {},
   "outputs": [],
   "source": [
    "import tensorflow as tf\n",
    "from tensorflow.keras import layers, models\n",
    "from tensorflow.keras.preprocessing.image import ImageDataGenerator\n",
    "from tensorflow.keras.applications.resnet50 import preprocess_input\n",
    "from keras.models import load_model\n",
    "\n",
    "\n",
    "import os\n",
    "import random\n",
    "import shutil\n",
    "import PIL\n",
    "from PIL import Image\n",
    "\n",
    "import numpy as np\n",
    "import sklearn.metrics\n",
    "from sklearn.metrics import classification_report, confusion_matrix"
   ]
  },
  {
   "cell_type": "code",
   "execution_count": 2,
   "metadata": {},
   "outputs": [],
   "source": [
    "'''\n",
    "model = models.Sequential()\n",
    "model.add(layers.Conv2D(32, (3, 3), activation='relu', input_shape=(480, 640, 3)))\n",
    "model.add(layers.Conv2D(64, (3, 3), activation='relu', groups=1))\n",
    "model.add(layers.MaxPooling2D((2, 2)))\n",
    "model.add(layers.Conv2D(128, (3, 3), activation='relu', groups=1))\n",
    "model.add(layers.MaxPooling2D((2, 2)))\n",
    "\n",
    "model.add(layers.Flatten())\n",
    "model.add(layers.Dense(128, activation='relu'))\n",
    "model.add(layers.Dense(822, activation='softmax'))\n",
    "\n",
    "# Restore the weights\n",
    "model.load_weights(\"model1.keras\")\n",
    "model.compile()\n",
    "'''\n",
    "\n",
    "model = load_model(\"model1.keras\")\n"
   ]
  },
  {
   "cell_type": "code",
   "execution_count": 3,
   "metadata": {},
   "outputs": [
    {
     "name": "stdout",
     "output_type": "stream",
     "text": [
      "Found 4902 images belonging to 1 classes.\n"
     ]
    }
   ],
   "source": [
    "directory = \"../Segmented-Casia-Iris-Lamp-New-Test\"\n",
    "\n",
    "batch_size = 32\n",
    "img_height = 480\n",
    "img_width = 640\n",
    "input_shape = (img_height, img_width, 3) \n",
    "\n",
    "test_datagen = ImageDataGenerator()\n",
    "\n",
    "test_generator = test_datagen.flow_from_directory(\n",
    "    directory,\n",
    "    target_size=(img_height, img_width),\n",
    "    batch_size = batch_size,\n",
    "    class_mode='sparse')\n",
    "\n",
    "\n",
    "#predictions = model.predict(test_generator)\n",
    "#predicted_classes = np.argmax(predictions, axis=1)\n",
    "#true_classes = test_generator.classes\n",
    "#class_labels = list(test_generator.class_indices.keys())"
   ]
  },
  {
   "cell_type": "code",
   "execution_count": 5,
   "metadata": {},
   "outputs": [],
   "source": [
    "# Evaluate the model\n",
    "results = model.evaluate(test_generator, verbose=2)\n",
    "print(\"Restored model results, \", results)\n",
    "'''\n",
    "cm = confusion_matrix(true_classes, predicted_classes)\n",
    "\n",
    "cr = classification_report(true_classes, predicted_classes, target_names=class_labels)\n",
    "\n",
    "print(\"Confusion Matrix:\")\n",
    "print(cm)\n",
    "\n",
    "print(\"\\nClassification Report:\")\n",
    "print(cr)'''"
   ]
  }
 ],
 "metadata": {
  "kernelspec": {
   "display_name": "root2",
   "language": "python",
   "name": "python3"
  },
  "language_info": {
   "codemirror_mode": {
    "name": "ipython",
    "version": 3
   },
   "file_extension": ".py",
   "mimetype": "text/x-python",
   "name": "python",
   "nbconvert_exporter": "python",
   "pygments_lexer": "ipython3",
   "version": "3.9.18"
  }
 },
 "nbformat": 4,
 "nbformat_minor": 2
}
