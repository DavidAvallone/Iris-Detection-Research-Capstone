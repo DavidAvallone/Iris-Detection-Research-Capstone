{
 "cells": [
  {
   "cell_type": "code",
   "execution_count": 6,
   "metadata": {},
   "outputs": [],
   "source": [
    "import tensorflow as tf\n",
    "from tensorflow.keras import layers, models\n",
    "from tensorflow.keras.preprocessing.image import ImageDataGenerator\n",
    "from tensorflow.keras.applications.resnet50 import preprocess_input\n",
    "from tensorflow.keras.utils import to_categorical\n",
    "from tensorflow.keras.models import model_from_json\n",
    "\n",
    "import os\n",
    "import random\n",
    "import shutil\n",
    "import PIL\n",
    "from PIL import Image"
   ]
  },
  {
   "cell_type": "code",
   "execution_count": 32,
   "metadata": {},
   "outputs": [
    {
     "name": "stdout",
     "output_type": "stream",
     "text": [
      "No checkpoint found.\n"
     ]
    }
   ],
   "source": [
    "model = models.Sequential()\n",
    "\n",
    "# Restore the weights\n",
    "latest_checkpoint = tf.train.latest_checkpoint('/training_1/cp-0000.ckpt')\n",
    "if latest_checkpoint:\n",
    "    model.load_weights(latest_checkpoint)\n",
    "    print(\"Checkpoint loaded:\", latest_checkpoint)\n",
    "else:\n",
    "    print(\"No checkpoint found.\")\n",
    "\n",
    "# directory = \"../Segmented-Casia-Iris-Lamp\"\n",
    "\n",
    "# batch_size = 32\n",
    "# img_height = 480\n",
    "# img_width = 640\n",
    "# input_shape = (img_height, img_width, 3) \n",
    "\n",
    "# test_datagen = ImageDataGenerator()\n",
    "\n",
    "# test_generator = test_datagen.flow_from_directory(\n",
    "#     directory,\n",
    "#     target_size=(img_height, img_width),\n",
    "#     batch_size=batch_size,\n",
    "#     class_mode='sparse',\n",
    "#     subset='validation')\n",
    "\n",
    "# model.compile()\n",
    "\n",
    "# Evaluate the model\n",
    "# loss, acc = model.evaluate(test_generator, verbose=2)\n",
    "# print(\"Restored model, accuracy: {:5.2f}%\".format(100 * acc))"
   ]
  },
  {
   "cell_type": "code",
   "execution_count": null,
   "metadata": {},
   "outputs": [],
   "source": []
  }
 ],
 "metadata": {
  "kernelspec": {
   "display_name": "root2",
   "language": "python",
   "name": "python3"
  },
  "language_info": {
   "codemirror_mode": {
    "name": "ipython",
    "version": 3
   },
   "file_extension": ".py",
   "mimetype": "text/x-python",
   "name": "python",
   "nbconvert_exporter": "python",
   "pygments_lexer": "ipython3",
   "version": "3.9.18"
  }
 },
 "nbformat": 4,
 "nbformat_minor": 2
}
