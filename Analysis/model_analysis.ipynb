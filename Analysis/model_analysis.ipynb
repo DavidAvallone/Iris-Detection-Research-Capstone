{
 "cells": [
  {
   "cell_type": "code",
   "execution_count": 6,
   "metadata": {},
   "outputs": [],
   "source": [
    "import tensorflow as tf\n",
    "from tensorflow.keras import layers, models\n",
    "from tensorflow.keras.preprocessing.image import ImageDataGenerator\n",
    "from tensorflow.keras.applications.resnet50 import preprocess_input\n",
    "from keras.models import load_model\n",
    "\n",
    "import numpy as np\n",
    "import os\n",
    "import random\n",
    "import shutil\n",
    "import PIL\n",
    "from PIL import Image\n",
    "from sklearn.metrics import accuracy_score, precision_recall_fscore_support, confusion_matrix"
   ]
  },
  {
   "cell_type": "code",
   "execution_count": 5,
   "metadata": {},
   "outputs": [],
   "source": [
    "model = models.Sequential()\n",
    "model.add(layers.Conv2D(32, (3, 3), activation='relu', input_shape=(480, 640, 3)))\n",
    "model.add(layers.Conv2D(64, (3, 3), activation='relu', groups=1))\n",
    "model.add(layers.MaxPooling2D((2, 2)))\n",
    "model.add(layers.Conv2D(128, (3, 3), activation='relu', groups=1))\n",
    "model.add(layers.MaxPooling2D((2, 2)))\n",
    "\n",
    "model.add(layers.Flatten())\n",
    "model.add(layers.Dense(128, activation='relu'))\n",
    "model.add(layers.Dense(822, activation='softmax'))\n",
    "\n",
    "# Restore the weights\n",
    "model.load_weights(\"model1.keras\")\n",
    "model.compile()"
   ]
  },
  {
   "cell_type": "code",
   "execution_count": 31,
   "metadata": {},
   "outputs": [
    {
     "name": "stdout",
     "output_type": "stream",
     "text": [
      "Found 4902 images belonging to 1 classes.\n"
     ]
    }
   ],
   "source": [
    "directory = \"../Segmented-Casia-Iris-Lamp-New-Test\"\n",
    "\n",
    "batch_size = 32\n",
    "img_height = 480\n",
    "img_width = 640\n",
    "input_shape = (img_height, img_width, 3) \n",
    "\n",
    "test_datagen = ImageDataGenerator()\n",
    "\n",
    "test_generator = test_datagen.flow_from_directory(\n",
    "    directory,\n",
    "    target_size=(img_height, img_width),\n",
    "    class_mode='sparse')\n",
    "\n",
    "labels = test_generator.classes"
   ]
  },
  {
   "cell_type": "code",
   "execution_count": 32,
   "metadata": {},
   "outputs": [
    {
     "name": "stdout",
     "output_type": "stream",
     "text": [
      "154/154 [==============================] - 265s 2s/step\n"
     ]
    }
   ],
   "source": [
    "predictions = model.predict(test_generator, labels)"
   ]
  },
  {
   "cell_type": "code",
   "execution_count": 33,
   "metadata": {},
   "outputs": [
    {
     "name": "stdout",
     "output_type": "stream",
     "text": [
      "[[5.8659307e-11 1.0234588e-14 5.3257454e-06 ... 8.0186794e-07\n",
      "  4.7885630e-19 5.4503003e-19]\n",
      " [7.6267173e-23 1.9277191e-11 7.5290529e-20 ... 2.9753968e-15\n",
      "  8.8243243e-24 6.1781895e-23]\n",
      " [2.3274317e-06 9.7041820e-06 6.1385890e-06 ... 4.8864340e-15\n",
      "  5.6272094e-16 1.0557174e-16]\n",
      " ...\n",
      " [3.5772802e-09 5.1022062e-07 3.2468882e-11 ... 9.8763174e-08\n",
      "  6.4767578e-15 8.0233095e-14]\n",
      " [3.9412241e-17 5.4558297e-21 1.3035676e-14 ... 5.6360197e-14\n",
      "  6.9046294e-37 2.0067027e-38]\n",
      " [1.8082134e-03 1.7329678e-02 1.3917883e-06 ... 1.4366545e-08\n",
      "  4.3013688e-13 1.7375860e-12]]\n"
     ]
    }
   ],
   "source": [
    "print(predictions)"
   ]
  },
  {
   "cell_type": "code",
   "execution_count": 34,
   "metadata": {},
   "outputs": [
    {
     "name": "stdout",
     "output_type": "stream",
     "text": [
      "Accuracy: 0.0016319869441044472\n",
      "Precision: 0.0014950166112956812\n",
      "Recall: 0.0016319869441044472\n",
      "F1-score: 0.0014803486211373484\n",
      "Confusion Matrix:\n",
      "[[0 0 0 ... 0 0 0]\n",
      " [0 0 0 ... 0 0 0]\n",
      " [0 0 0 ... 0 0 0]\n",
      " ...\n",
      " [0 0 0 ... 0 0 0]\n",
      " [0 0 0 ... 0 0 0]\n",
      " [0 0 0 ... 0 0 0]]\n"
     ]
    }
   ],
   "source": [
    "# Convert predictions to class labels\n",
    "predicted_classes = np.argmax(predictions, axis=1)\n",
    "\n",
    "# Get true labels\n",
    "true_labels = test_generator.classes\n",
    "\n",
    "# Calculate accuracy\n",
    "accuracy = accuracy_score(true_labels, predicted_classes)\n",
    "print(\"Accuracy:\", accuracy)\n",
    "\n",
    "# Calculate precision, recall, and F1-score\n",
    "precision, recall, f1_score, _ = precision_recall_fscore_support(true_labels, predicted_classes, average='weighted')\n",
    "print(\"Precision:\", precision)\n",
    "print(\"Recall:\", recall)\n",
    "print(\"F1-score:\", f1_score)\n",
    "\n",
    "# Calculate confusion matrix\n",
    "conf_matrix = confusion_matrix(true_labels, predicted_classes)\n",
    "print(\"Confusion Matrix:\")\n",
    "print(conf_matrix)"
   ]
  },
  {
   "cell_type": "code",
   "execution_count": 2,
   "metadata": {},
   "outputs": [
    {
     "name": "stdout",
     "output_type": "stream",
     "text": [
      "Found 4902 images belonging to 820 classes.\n"
     ]
    }
   ],
   "source": [
    "model1 = models.Sequential()\n",
    "model1.add(layers.Conv2D(32, (3, 3), activation='relu', input_shape=(480, 640, 3)))\n",
    "model1.add(layers.MaxPooling2D((2, 2)))\n",
    "model1.add(layers.Conv2D(64, (3, 3), activation='relu', groups=1))\n",
    "model1.add(layers.MaxPooling2D((2, 2)))\n",
    "model1.add(layers.Conv2D(64, (3, 3), activation='relu', groups=1))\n",
    "model1.add(layers.MaxPooling2D((2, 2)))\n",
    "model1.add(layers.Conv2D(64, (3, 3), activation='relu', groups=1))\n",
    "model1.add(layers.MaxPooling2D((2, 2)))\n",
    "model1.add(layers.Flatten())\n",
    "model1.add(layers.Dense(128, activation='relu'))\n",
    "model1.add(layers.Dense(820, activation='softmax'))\n",
    "\n",
    "model1.load_weights(\"model4.keras\")\n",
    "model1.compile()\n",
    "\n",
    "directory = \"../Segmented-Casia-Iris-Lamp-New-Test\"\n",
    "\n",
    "batch_size = 32\n",
    "img_height = 480\n",
    "img_width = 640\n",
    "input_shape = (img_height, img_width, 3) \n",
    "\n",
    "test_datagen = ImageDataGenerator()\n",
    "\n",
    "test_generator = test_datagen.flow_from_directory(\n",
    "    directory,\n",
    "    target_size=(img_height, img_width),\n",
    "    class_mode='sparse')\n",
    "\n",
    "labels = test_generator.classes"
   ]
  },
  {
   "cell_type": "code",
   "execution_count": 8,
   "metadata": {},
   "outputs": [
    {
     "name": "stdout",
     "output_type": "stream",
     "text": [
      "154/154 [==============================] - 76s 489ms/step\n"
     ]
    }
   ],
   "source": [
    "predictions1 = model1.predict(test_generator, labels)"
   ]
  },
  {
   "cell_type": "code",
   "execution_count": 9,
   "metadata": {},
   "outputs": [
    {
     "name": "stdout",
     "output_type": "stream",
     "text": [
      "Accuracy: 0.0012239902080783353\n",
      "Precision: 0.0012662470128810398\n",
      "Recall: 0.0012239902080783353\n",
      "F1-score: 0.001234791320470635\n",
      "Confusion Matrix:\n",
      "[[0 0 0 ... 0 0 0]\n",
      " [0 0 0 ... 0 0 0]\n",
      " [0 0 0 ... 0 0 0]\n",
      " ...\n",
      " [0 0 0 ... 0 0 0]\n",
      " [0 0 1 ... 0 0 0]\n",
      " [0 0 0 ... 0 0 0]]\n"
     ]
    }
   ],
   "source": [
    "# Convert predictions to class labels\n",
    "predicted_classes1 = np.argmax(predictions1, axis=1)\n",
    "\n",
    "# Get true labels\n",
    "true_labels = test_generator.classes\n",
    "\n",
    "# Calculate accuracy\n",
    "accuracy = accuracy_score(true_labels, predicted_classes1)\n",
    "print(\"Accuracy:\", accuracy)\n",
    "\n",
    "# Calculate precision, recall, and F1-score\n",
    "precision, recall, f1_score, _ = precision_recall_fscore_support(true_labels, predicted_classes1, average='weighted')\n",
    "print(\"Precision:\", precision)\n",
    "print(\"Recall:\", recall)\n",
    "print(\"F1-score:\", f1_score)\n",
    "\n",
    "# Calculate confusion matrix\n",
    "conf_matrix = confusion_matrix(true_labels, predicted_classes1)\n",
    "print(\"Confusion Matrix:\")\n",
    "print(conf_matrix)"
   ]
  }
 ],
 "metadata": {
  "kernelspec": {
   "display_name": "root2",
   "language": "python",
   "name": "python3"
  },
  "language_info": {
   "codemirror_mode": {
    "name": "ipython",
    "version": 3
   },
   "file_extension": ".py",
   "mimetype": "text/x-python",
   "name": "python",
   "nbconvert_exporter": "python",
   "pygments_lexer": "ipython3",
   "version": "3.9.18"
  }
 },
 "nbformat": 4,
 "nbformat_minor": 2
}
