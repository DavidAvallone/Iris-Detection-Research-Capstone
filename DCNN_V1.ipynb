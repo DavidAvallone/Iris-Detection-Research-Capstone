{
 "cells": [
  {
   "cell_type": "code",
   "execution_count": 2,
   "metadata": {},
   "outputs": [],
   "source": [
    "import tensorflow as tf\n",
    "from tensorflow.keras import layers, models\n",
    "from tensorflow.keras.preprocessing.image import ImageDataGenerator\n",
    "from tensorflow.keras.applications.resnet50 import preprocess_input\n",
    "from tensorflow.keras.utils import to_categorical\n",
    "\n",
    "import os\n",
    "import random\n",
    "import shutil\n",
    "# https://www.tensorflow.org/api_docs/python/tf/keras/preprocessing/image/ImageDataGenerator"
   ]
  },
  {
   "cell_type": "code",
   "execution_count": 3,
   "metadata": {},
   "outputs": [],
   "source": [
    "\"\"\"\n",
    "    Split the dataset into training and testing sets.\n",
    "\n",
    "    Args:\n",
    "    - directory: The directory containing the dataset.\n",
    "    - ratio: The ratio of training data to total data (default is 0.8).\n",
    "\n",
    "    Returns:\n",
    "    - train_files: List of file paths for training.\n",
    "    - test_files: List of file paths for testing.\n",
    "    \"\"\"\n",
    "def split_dataset(directory, ratio=0.8):\n",
    "    # Get all file paths in the directory\n",
    "    all_files = []\n",
    "    for root, _, files in os.walk(directory):\n",
    "        for file in files:\n",
    "            if file.endswith('.jpg'):\n",
    "                file_path = os.path.join(root, file)\n",
    "                all_files.append(file_path)\n",
    "\n",
    "    # Shuffle the file paths\n",
    "    random.shuffle(all_files)\n",
    "\n",
    "    # Split the file paths into training and testing sets\n",
    "    split_idx = int(len(all_files) * ratio)\n",
    "    train_files = all_files[:split_idx]\n",
    "    test_files = all_files[split_idx:]\n",
    "\n",
    "    return train_files, test_files\n",
    "\n",
    "\n",
    "def combine_subdirectories(main_dir):\n",
    "    \"\"\"\n",
    "    Combines two subdirectories in each subdirectory of the main directory into one.\n",
    "\n",
    "    Args:\n",
    "    - main_dir (str): Path to the main directory containing subdirectories.\n",
    "    \"\"\"\n",
    "    # Iterate over each subdirectory\n",
    "    for subdir in os.listdir(main_dir):\n",
    "        subdir_path = os.path.join(main_dir, subdir)\n",
    "        if os.path.isdir(subdir_path):\n",
    "            # Get the paths of the two subdirectories\n",
    "            subdirs = [os.path.join(subdir_path, subsubdir) for subsubdir in os.listdir(subdir_path)]\n",
    "            # Ensure that both paths are directories\n",
    "            if all(os.path.isdir(path) for path in subdirs):\n",
    "                # Combine the files from the second subdirectory into the first subdirectory\n",
    "                for file in os.listdir(subdirs[1]):\n",
    "                    src = os.path.join(subdirs[1], file)\n",
    "                    dst = os.path.join(subdirs[0], file)\n",
    "                    shutil.move(src, dst)\n",
    "                # Remove the now empty second subdirectory\n",
    "                os.rmdir(subdirs[1])"
   ]
  },
  {
   "cell_type": "code",
   "execution_count": 5,
   "metadata": {},
   "outputs": [
    {
     "name": "stdout",
     "output_type": "stream",
     "text": [
      "Number of training files: 1847\n",
      "Number of testing files: 792\n"
     ]
    }
   ],
   "source": [
    "# this was a test but i think its useless\n",
    "directory = \"Processed-CASIA-Iris-Interval\"\n",
    "combine_subdirectories(directory)\n",
    "train_files, test_files = split_dataset(directory, ratio=0.7)\n",
    "\n",
    "print(\"Number of training files:\", len(train_files))\n",
    "print(\"Number of testing files:\", len(test_files))"
   ]
  },
  {
   "cell_type": "code",
   "execution_count": 4,
   "metadata": {},
   "outputs": [
    {
     "name": "stdout",
     "output_type": "stream",
     "text": [
      "Model: \"sequential\"\n",
      "_________________________________________________________________\n",
      " Layer (type)                Output Shape              Param #   \n",
      "=================================================================\n",
      " conv2d (Conv2D)             (None, 478, 638, 32)      896       \n",
      "                                                                 \n",
      " max_pooling2d (MaxPooling2D  (None, 239, 319, 32)     0         \n",
      " )                                                               \n",
      "                                                                 \n",
      " conv2d_1 (Conv2D)           (None, 237, 317, 64)      18496     \n",
      "                                                                 \n",
      " max_pooling2d_1 (MaxPooling  (None, 118, 158, 64)     0         \n",
      " 2D)                                                             \n",
      "                                                                 \n",
      " conv2d_2 (Conv2D)           (None, 116, 156, 128)     73856     \n",
      "                                                                 \n",
      " max_pooling2d_2 (MaxPooling  (None, 58, 78, 128)      0         \n",
      " 2D)                                                             \n",
      "                                                                 \n",
      " flatten (Flatten)           (None, 579072)            0         \n",
      "                                                                 \n",
      " dense (Dense)               (None, 128)               74121344  \n",
      "                                                                 \n",
      " dense_1 (Dense)             (None, 64)                8256      \n",
      "                                                                 \n",
      " dense_2 (Dense)             (None, 411)               26715     \n",
      "                                                                 \n",
      "=================================================================\n",
      "Total params: 74,249,563\n",
      "Trainable params: 74,249,563\n",
      "Non-trainable params: 0\n",
      "_________________________________________________________________\n"
     ]
    }
   ],
   "source": [
    "num_classes = 411\n",
    "model = models.Sequential()\n",
    "\n",
    "# Convolutional layers\n",
    "model.add(layers.Conv2D(32, (3, 3), activation='relu', input_shape=(480, 640, 3)))\n",
    "model.add(layers.MaxPooling2D((2, 2)))\n",
    "model.add(layers.Conv2D(64, (3, 3), activation='relu'))\n",
    "model.add(layers.MaxPooling2D((2, 2)))\n",
    "model.add(layers.Conv2D(128, (3, 3), activation='relu'))\n",
    "model.add(layers.MaxPooling2D((2, 2)))\n",
    "\n",
    "# Flatten the output to feed into a dense layer\n",
    "model.add(layers.Flatten())\n",
    "\n",
    "# Dense layers\n",
    "model.add(layers.Dense(128, activation='relu'))\n",
    "model.add(layers.Dense(64, activation='relu'))\n",
    "\n",
    "# Output layer\n",
    "model.add(layers.Dense(num_classes, activation='softmax'))\n",
    "\n",
    "# Compile the model\n",
    "model.compile(optimizer='adam',\n",
    "              loss='sparse_categorical_crossentropy',\n",
    "              metrics=['accuracy'])\n",
    "\n",
    "# Print the model summary\n",
    "model.summary()"
   ]
  },
  {
   "cell_type": "code",
   "execution_count": 6,
   "metadata": {},
   "outputs": [
    {
     "name": "stdout",
     "output_type": "stream",
     "text": [
      "Found 2216 images belonging to 249 classes.\n",
      "Found 423 images belonging to 249 classes.\n"
     ]
    },
    {
     "ename": "",
     "evalue": "",
     "output_type": "error",
     "traceback": [
      "\u001b[1;31mThe Kernel crashed while executing code in the current cell or a previous cell. \n",
      "\u001b[1;31mPlease review the code in the cell(s) to identify a possible cause of the failure. \n",
      "\u001b[1;31mClick <a href='https://aka.ms/vscodeJupyterKernelCrash'>here</a> for more info. \n",
      "\u001b[1;31mView Jupyter <a href='command:jupyter.viewOutput'>log</a> for further details."
     ]
    }
   ],
   "source": [
    "# Define image dimensions\n",
    "img_width, img_height = 640, 480\n",
    "input_shape = (img_height, img_width, 1)  # Grayscale image\n",
    "\n",
    "# Define batch size\n",
    "batch_size = 32\n",
    "\n",
    "#Define data generator for training data\n",
    "train_datagen = ImageDataGenerator(\n",
    "    featurewise_center=True,\n",
    "    featurewise_std_normalization=True,\n",
    "    rotation_range=20,\n",
    "    width_shift_range=0.2,\n",
    "    height_shift_range=0.2,\n",
    "    horizontal_flip=True,\n",
    "    validation_split=0.2)\n",
    "\n",
    "# train_datagen.fit(train_files)\n",
    "\n",
    "train_generator = train_datagen.flow_from_directory(\n",
    "    directory,\n",
    "    target_size=(img_height, img_width),\n",
    "    batch_size=batch_size,\n",
    "    class_mode='categorical',\n",
    "    subset='training')\n",
    "\n",
    "validation_generator = train_datagen.flow_from_directory(\n",
    "    directory,\n",
    "    target_size=(img_height, img_width),\n",
    "    batch_size=batch_size,\n",
    "    class_mode='categorical',\n",
    "    subset='validation')\n",
    "\n",
    "model.fit(\n",
    "    train_generator,\n",
    "    steps_per_epoch=train_generator.samples // batch_size,\n",
    "    validation_data=validation_generator,\n",
    "    validation_steps=validation_generator.samples // batch_size,\n",
    "    epochs=10)"
   ]
  }
 ],
 "metadata": {
  "kernelspec": {
   "display_name": "base",
   "language": "python",
   "name": "python3"
  },
  "language_info": {
   "codemirror_mode": {
    "name": "ipython",
    "version": 3
   },
   "file_extension": ".py",
   "mimetype": "text/x-python",
   "name": "python",
   "nbconvert_exporter": "python",
   "pygments_lexer": "ipython3",
   "version": "3.9.18"
  }
 },
 "nbformat": 4,
 "nbformat_minor": 2
}
