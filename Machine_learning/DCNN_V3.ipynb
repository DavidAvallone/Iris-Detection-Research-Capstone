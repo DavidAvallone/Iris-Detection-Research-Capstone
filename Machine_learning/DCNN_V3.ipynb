{
 "cells": [
  {
   "cell_type": "code",
   "execution_count": 1,
   "metadata": {},
   "outputs": [],
   "source": [
    "import tensorflow as tf\n",
    "from tensorflow.keras import layers, models\n",
    "from tensorflow.keras.preprocessing.image import ImageDataGenerator\n",
    "from tensorflow.keras.applications.resnet50 import preprocess_input\n",
    "from tensorflow.keras.utils import to_categorical\n",
    "\n",
    "import os\n",
    "import random\n",
    "import shutil\n",
    "import PIL\n",
    "from PIL import Image\n",
    "# https://www.tensorflow.org/api_docs/python/tf/keras/preprocessing/image/ImageDataGenerator"
   ]
  },
  {
   "cell_type": "code",
   "execution_count": 2,
   "metadata": {},
   "outputs": [],
   "source": [
    "\"\"\"\n",
    "    Split the dataset into training and testing sets.\n",
    "\n",
    "    \"\"\"\n",
    "def split_dataset(directory, ratio=0.8):\n",
    "    all_files = []\n",
    "    for root, _, files in os.walk(directory):\n",
    "        for file in files:\n",
    "            if file.endswith('.jpg'):\n",
    "                file_path = os.path.join(root, file)\n",
    "                all_files.append(file_path)\n",
    "\n",
    "    random.shuffle(all_files)\n",
    "\n",
    "    split_idx = int(len(all_files) * ratio)\n",
    "    train_files = all_files[:split_idx]\n",
    "    test_files = all_files[split_idx:]\n",
    "\n",
    "    return train_files, test_files\n",
    "\n",
    "\n",
    "def combine_subdirectories(main_dir):\n",
    "    \n",
    "    for subdir in os.listdir(main_dir):\n",
    "        subdir_path = os.path.join(main_dir, subdir)\n",
    "        if os.path.isdir(subdir_path):\n",
    "            subdirs = [os.path.join(subdir_path, subsubdir) for subsubdir in os.listdir(subdir_path)]\n",
    "            if all(os.path.isdir(path) for path in subdirs):\n",
    "                for file in os.listdir(subdirs[1]):\n",
    "                    src = os.path.join(subdirs[1], file)\n",
    "                    dst = os.path.join(subdirs[0], file)\n",
    "                    shutil.move(src, dst)\n",
    "                # Remove the now empty second subdirectory\n",
    "                os.rmdir(subdirs[1])"
   ]
  },
  {
   "cell_type": "code",
   "execution_count": 3,
   "metadata": {},
   "outputs": [
    {
     "name": "stdout",
     "output_type": "stream",
     "text": [
      "Number of training files: 2774\n",
      "Number of testing files: 1189\n"
     ]
    }
   ],
   "source": [
    "# this was a test but i think its useless\n",
    "directory = \"Smaller-Processed-CASIA-Iris-Lamp2\"\n",
    "combine_subdirectories(directory)\n",
    "train_files, test_files = split_dataset(directory, ratio=0.7)\n",
    "\n",
    "print(\"Number of training files:\", len(train_files))\n",
    "print(\"Number of testing files:\", len(test_files))"
   ]
  },
  {
   "cell_type": "code",
   "execution_count": 4,
   "metadata": {},
   "outputs": [
    {
     "name": "stdout",
     "output_type": "stream",
     "text": [
      "Model: \"sequential\"\n",
      "_________________________________________________________________\n",
      " Layer (type)                Output Shape              Param #   \n",
      "=================================================================\n",
      " conv2d (Conv2D)             (None, 476, 636, 32)      2432      \n",
      "                                                                 \n",
      " max_pooling2d (MaxPooling2D  (None, 238, 318, 32)     0         \n",
      " )                                                               \n",
      "                                                                 \n",
      " conv2d_1 (Conv2D)           (None, 234, 314, 64)      51264     \n",
      "                                                                 \n",
      " max_pooling2d_1 (MaxPooling  (None, 117, 157, 64)     0         \n",
      " 2D)                                                             \n",
      "                                                                 \n",
      " conv2d_2 (Conv2D)           (None, 113, 153, 128)     204928    \n",
      "                                                                 \n",
      " max_pooling2d_2 (MaxPooling  (None, 56, 76, 128)      0         \n",
      " 2D)                                                             \n",
      "                                                                 \n",
      " conv2d_3 (Conv2D)           (None, 52, 72, 256)       819456    \n",
      "                                                                 \n",
      " max_pooling2d_3 (MaxPooling  (None, 26, 36, 256)      0         \n",
      " 2D)                                                             \n",
      "                                                                 \n",
      " flatten (Flatten)           (None, 239616)            0         \n",
      "                                                                 \n",
      " dropout (Dropout)           (None, 239616)            0         \n",
      "                                                                 \n",
      " dense (Dense)               (None, 128)               30670976  \n",
      "                                                                 \n",
      " dense_1 (Dense)             (None, 200)               25800     \n",
      "                                                                 \n",
      "=================================================================\n",
      "Total params: 31,774,856\n",
      "Trainable params: 31,774,856\n",
      "Non-trainable params: 0\n",
      "_________________________________________________________________\n"
     ]
    }
   ],
   "source": [
    "num_classes = 200\n",
    "model = models.Sequential()\n",
    "\n",
    "# increasing the number of layers\n",
    "# increase the kernel size\n",
    "model.add(layers.Conv2D(32, (5, 5), activation='relu', input_shape=(480, 640, 3)))\n",
    "model.add(layers.MaxPooling2D((2, 2)))\n",
    "model.add(layers.Conv2D(64, (5, 5), activation='relu', groups=1))\n",
    "model.add(layers.MaxPooling2D((2, 2)))\n",
    "model.add(layers.Conv2D(128, (5, 5), activation='relu', groups=1))\n",
    "model.add(layers.MaxPooling2D((2, 2)))\n",
    "model.add(layers.Conv2D(256, (5, 5), activation='relu', groups=1))\n",
    "model.add(layers.MaxPooling2D((2, 2)))\n",
    "\n",
    "model.add(layers.Flatten())\n",
    "\n",
    "# adding a dropout layer to try to avoid overfitting\n",
    "model.add(layers.Dropout(0.5))\n",
    "model.add(layers.Dense(128, activation='relu'))\n",
    "model.add(layers.Dense(num_classes, activation='softmax'))\n",
    "\n",
    "# using the adam optimizer again\n",
    "model.compile(optimizer='adam',\n",
    "              loss='sparse_categorical_crossentropy',\n",
    "              metrics=['accuracy'])\n",
    "\n",
    "model.summary()"
   ]
  },
  {
   "cell_type": "code",
   "execution_count": 5,
   "metadata": {},
   "outputs": [
    {
     "name": "stdout",
     "output_type": "stream",
     "text": [
      "Found 3173 images belonging to 100 classes.\n",
      "Found 790 images belonging to 100 classes.\n",
      "Epoch 1/10\n"
     ]
    }
   ],
   "source": [
    "img_height = 480\n",
    "img_width = 640\n",
    "input_shape = (img_height, img_width, 3) \n",
    "\n",
    "batch_size = 32\n",
    "\n",
    "train_datagen = ImageDataGenerator(\n",
    "    validation_split=0.2,\n",
    "    )\n",
    "\n",
    "# train_datagen.fit(train_files)\n",
    "\n",
    "train_generator = train_datagen.flow_from_directory(\n",
    "    directory,\n",
    "    target_size=(img_height, img_width),\n",
    "    batch_size=batch_size,\n",
    "    class_mode='sparse',\n",
    "    subset='training')\n",
    "\n",
    "validation_generator = train_datagen.flow_from_directory(\n",
    "    directory,\n",
    "    target_size=(img_height, img_width),\n",
    "    batch_size=batch_size,\n",
    "    class_mode='sparse',\n",
    "    subset='validation')\n",
    "\n",
    "model.fit(\n",
    "    train_generator,\n",
    "    steps_per_epoch=train_generator.samples // batch_size,\n",
    "    validation_data=validation_generator,\n",
    "    validation_steps=validation_generator.samples // batch_size,\n",
    "    epochs=10)"
   ]
  }
 ],
 "metadata": {
  "kernelspec": {
   "display_name": "lower",
   "language": "python",
   "name": "python3"
  },
  "language_info": {
   "codemirror_mode": {
    "name": "ipython",
    "version": 3
   },
   "file_extension": ".py",
   "mimetype": "text/x-python",
   "name": "python",
   "nbconvert_exporter": "python",
   "pygments_lexer": "ipython3",
   "version": "3.9.18"
  }
 },
 "nbformat": 4,
 "nbformat_minor": 2
}
